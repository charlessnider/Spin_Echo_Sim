{
 "cells": [
  {
   "cell_type": "code",
   "execution_count": 1,
   "id": "83896995",
   "metadata": {},
   "outputs": [],
   "source": [
    "import numpy as np\n",
    "from numpy import pi as π\n",
    "from itertools import product\n",
    "from paramutils import make_cuda_parameter_files"
   ]
  },
  {
   "cell_type": "markdown",
   "id": "1092354a",
   "metadata": {},
   "source": [
    "## Create interaction parameters"
   ]
  },
  {
   "cell_type": "code",
   "execution_count": 2,
   "id": "4db9f7af",
   "metadata": {},
   "outputs": [],
   "source": [
    "# a function to calculate the stencil weight given ξ, p\n",
    "# the \"sweet spot\" for the interaction is best set relative to stencil weight\n",
    "def calc_stencil(func, nx, ny, **kwargs):\n",
    "    \n",
    "    # just go through each particle and add it up\n",
    "    output = 0\n",
    "    for idx in range(nx):\n",
    "        for jdx in range(ny):\n",
    "\n",
    "            # no self coupling\n",
    "            if idx == jdx:\n",
    "                continue\n",
    "            \n",
    "            # periodic boundary conditions\n",
    "            x = (idx + nx / 2) % nx - nx / 2\n",
    "            y = (jdx + ny / 2) % ny - ny / 2\n",
    "            \n",
    "            # distnace from origin to point\n",
    "            r = np.sqrt(x ** 2 + y ** 2)\n",
    "            \n",
    "            # run through the stencil func and give stencil args as kwargs\n",
    "            output += func(r, **kwargs)\n",
    "    \n",
    "    return output\n",
    "\n",
    "\n",
    "# a few pre-defined stencils\n",
    "def gauss(r, ξ=10000.0):  # default to \"global\"\n",
    "    return np.exp(-(r / ξ) ** 2)\n",
    "\n",
    "\n",
    "# default to inverse square\n",
    "def pow_law(r, p=2.0):\n",
    "    return np.power(r, -p)\n",
    "\n",
    "\n",
    "# rkky type\n",
    "def rkky(r, ξ):\n",
    "    x = 2 * r / ξ\n",
    "    return np.pow(x, -4) * (x * np.cos(x) - np.sin(x))"
   ]
  },
  {
   "cell_type": "markdown",
   "id": "2c54f7d5",
   "metadata": {},
   "source": [
    "### Interaction strength is best measured relative to stencil weight"
   ]
  },
  {
   "cell_type": "code",
   "execution_count": 10,
   "id": "f0517d05",
   "metadata": {},
   "outputs": [],
   "source": [
    "# generate some interaction values\n",
    "γ = 2 * π * 1e6\n",
    "\n",
    "# linewidth in Hz\n",
    "Γ = 50000\n",
    "\n",
    "# create values of ω (planar)\n",
    "num_ωp = 3\n",
    "ω0 = 2.5 * (2 * π * Γ / γ)\n",
    "ωf = 4.5 * (2 * π * Γ / γ)\n",
    "ωp = list(np.power(10, np.linspace(np.log10(ω0), np.log10(ωf), num_ωp)))  # log scale from min to max\n",
    "\n",
    "# create values of ξ\n",
    "num_ξ = 3\n",
    "ξ = list(np.power(10, np.linspace(np.log10(5), np.log10(25), num_ξ)))\n",
    "               \n",
    "# combine everything just with product\n",
    "int_params = list(product(ωp, ξ))\n",
    "\n",
    "# go through the parameters and calculate alpha values\n",
    "for idx, param in enumerate(int_params):\n",
    "    \n",
    "    # get the current omega values\n",
    "    tωp = param[0]\n",
    "    tξ = param[1]\n",
    "    \n",
    "    # calculate the stencil form: use a gaussian\n",
    "    w = calc_stencil(gauss, 100, 100, ξ=tξ)\n",
    "    \n",
    "    # overwite this element with the corresponding alpha values\n",
    "    int_params[idx] = (tωp / w, tξ)"
   ]
  },
  {
   "cell_type": "markdown",
   "id": "16bc35bf",
   "metadata": {},
   "source": [
    "## Save to .txt file"
   ]
  },
  {
   "cell_type": "code",
   "execution_count": 12,
   "id": "8e729bdc",
   "metadata": {
    "scrolled": false
   },
   "outputs": [],
   "source": [
    "# initialize a dict for parameter storage\n",
    "params = {}\n",
    "\n",
    "# interaction strenghts\n",
    "params[\"αx\"] = [param[0] / 2 for param in int_params]\n",
    "params[\"αy\"] = [param[0] / 2 for param in int_params]\n",
    "params[\"αz\"] = 0.0\n",
    "\n",
    "# stencil parameters\n",
    "params[\"ξ\"] = [param[1] for param in int_params]\n",
    "params[\"p\"] = 2.0\n",
    "params[\"sten\"] = 0\n",
    "params[\"sw\"] = 1.0\n",
    "params[\"pw\"] = 0.0\n",
    "params[\"dw\"] = 0.0\n",
    "\n",
    "# dissipation\n",
    "params[\"Γ1\"] = 0.0\n",
    "params[\"Γ2\"] = 0.0\n",
    "params[\"Γ3\"] = 0.0\n",
    "\n",
    "# lattice sizes\n",
    "params[\"nx\"] = 100\n",
    "params[\"ny\"] = 100\n",
    "\n",
    "# time steps\n",
    "params[\"τ\"] = 50e-6\n",
    "params[\"dt\"] = 6 * π / 10  # use a multiple of π/10 for magnus terms\n",
    "\n",
    "# linewidth in MHz (use HWHM for CUDA, FWHM for Julia)\n",
    "params[\"line_width\"] = Γ / (2 * 1000000)  # needs to be in MHz\n",
    "\n",
    "# flip angles\n",
    "params[\"θ90\"] = π / 2\n",
    "params[\"θ180\"] = 2 * params[\"θ90\"]\n",
    "params[\"θ\"] = params[\"θ90\"]\n",
    "\n",
    "# pulse phases: 0 = x, 1 = y, 2 = -x, 3 = -y\n",
    "params[\"p90\"] = 0\n",
    "params[\"p180\"] = 0\n",
    "\n",
    "# specify variables which are \"paried\" ie iterate together\n",
    "paired = [(\"αx\", \"αy\", \"ξ\")]\n",
    "\n",
    "# create cuda parameter files from it\n",
    "make_cuda_parameter_files(params, paired=paired)"
   ]
  },
  {
   "cell_type": "code",
   "execution_count": null,
   "id": "3585df43",
   "metadata": {},
   "outputs": [],
   "source": []
  }
 ],
 "metadata": {
  "kernelspec": {
   "display_name": "Python 3 (ipykernel)",
   "language": "python",
   "name": "python3"
  },
  "language_info": {
   "codemirror_mode": {
    "name": "ipython",
    "version": 3
   },
   "file_extension": ".py",
   "mimetype": "text/x-python",
   "name": "python",
   "nbconvert_exporter": "python",
   "pygments_lexer": "ipython3",
   "version": "3.10.9"
  }
 },
 "nbformat": 4,
 "nbformat_minor": 5
}
